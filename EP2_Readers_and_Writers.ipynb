{
  "nbformat": 4,
  "nbformat_minor": 0,
  "metadata": {
    "colab": {
      "provenance": [],
      "include_colab_link": true
    },
    "kernelspec": {
      "name": "python3",
      "display_name": "Python 3"
    },
    "language_info": {
      "name": "python"
    }
  },
  "cells": [
    {
      "cell_type": "markdown",
      "metadata": {
        "id": "view-in-github",
        "colab_type": "text"
      },
      "source": [
        "<a href=\"https://colab.research.google.com/github/Gabriela-Alcaide/Leitores_Escritores_Automatico/blob/main/EP2_Readers_and_Writers.ipynb\" target=\"_parent\"><img src=\"https://colab.research.google.com/assets/colab-badge.svg\" alt=\"Open In Colab\"/></a>"
      ]
    },
    {
      "cell_type": "code",
      "source": [
        "import random\n",
        "import threading\n",
        "import time\n",
        "import string"
      ],
      "metadata": {
        "id": "zajrDHp18--Q"
      },
      "execution_count": 1,
      "outputs": []
    },
    {
      "cell_type": "code",
      "execution_count": 2,
      "metadata": {
        "colab": {
          "base_uri": "https://localhost:8080/",
          "height": 73
        },
        "id": "N25YI88BLiqo",
        "outputId": "53fe5c82-9545-488a-b6fd-3abed810085e"
      },
      "outputs": [
        {
          "output_type": "display_data",
          "data": {
            "text/plain": [
              "<IPython.core.display.HTML object>"
            ],
            "text/html": [
              "\n",
              "     <input type=\"file\" id=\"files-c296dc90-8520-4d6d-a5f0-77720fde7847\" name=\"files[]\" multiple disabled\n",
              "        style=\"border:none\" />\n",
              "     <output id=\"result-c296dc90-8520-4d6d-a5f0-77720fde7847\">\n",
              "      Upload widget is only available when the cell has been executed in the\n",
              "      current browser session. Please rerun this cell to enable.\n",
              "      </output>\n",
              "      <script>// Copyright 2017 Google LLC\n",
              "//\n",
              "// Licensed under the Apache License, Version 2.0 (the \"License\");\n",
              "// you may not use this file except in compliance with the License.\n",
              "// You may obtain a copy of the License at\n",
              "//\n",
              "//      http://www.apache.org/licenses/LICENSE-2.0\n",
              "//\n",
              "// Unless required by applicable law or agreed to in writing, software\n",
              "// distributed under the License is distributed on an \"AS IS\" BASIS,\n",
              "// WITHOUT WARRANTIES OR CONDITIONS OF ANY KIND, either express or implied.\n",
              "// See the License for the specific language governing permissions and\n",
              "// limitations under the License.\n",
              "\n",
              "/**\n",
              " * @fileoverview Helpers for google.colab Python module.\n",
              " */\n",
              "(function(scope) {\n",
              "function span(text, styleAttributes = {}) {\n",
              "  const element = document.createElement('span');\n",
              "  element.textContent = text;\n",
              "  for (const key of Object.keys(styleAttributes)) {\n",
              "    element.style[key] = styleAttributes[key];\n",
              "  }\n",
              "  return element;\n",
              "}\n",
              "\n",
              "// Max number of bytes which will be uploaded at a time.\n",
              "const MAX_PAYLOAD_SIZE = 100 * 1024;\n",
              "\n",
              "function _uploadFiles(inputId, outputId) {\n",
              "  const steps = uploadFilesStep(inputId, outputId);\n",
              "  const outputElement = document.getElementById(outputId);\n",
              "  // Cache steps on the outputElement to make it available for the next call\n",
              "  // to uploadFilesContinue from Python.\n",
              "  outputElement.steps = steps;\n",
              "\n",
              "  return _uploadFilesContinue(outputId);\n",
              "}\n",
              "\n",
              "// This is roughly an async generator (not supported in the browser yet),\n",
              "// where there are multiple asynchronous steps and the Python side is going\n",
              "// to poll for completion of each step.\n",
              "// This uses a Promise to block the python side on completion of each step,\n",
              "// then passes the result of the previous step as the input to the next step.\n",
              "function _uploadFilesContinue(outputId) {\n",
              "  const outputElement = document.getElementById(outputId);\n",
              "  const steps = outputElement.steps;\n",
              "\n",
              "  const next = steps.next(outputElement.lastPromiseValue);\n",
              "  return Promise.resolve(next.value.promise).then((value) => {\n",
              "    // Cache the last promise value to make it available to the next\n",
              "    // step of the generator.\n",
              "    outputElement.lastPromiseValue = value;\n",
              "    return next.value.response;\n",
              "  });\n",
              "}\n",
              "\n",
              "/**\n",
              " * Generator function which is called between each async step of the upload\n",
              " * process.\n",
              " * @param {string} inputId Element ID of the input file picker element.\n",
              " * @param {string} outputId Element ID of the output display.\n",
              " * @return {!Iterable<!Object>} Iterable of next steps.\n",
              " */\n",
              "function* uploadFilesStep(inputId, outputId) {\n",
              "  const inputElement = document.getElementById(inputId);\n",
              "  inputElement.disabled = false;\n",
              "\n",
              "  const outputElement = document.getElementById(outputId);\n",
              "  outputElement.innerHTML = '';\n",
              "\n",
              "  const pickedPromise = new Promise((resolve) => {\n",
              "    inputElement.addEventListener('change', (e) => {\n",
              "      resolve(e.target.files);\n",
              "    });\n",
              "  });\n",
              "\n",
              "  const cancel = document.createElement('button');\n",
              "  inputElement.parentElement.appendChild(cancel);\n",
              "  cancel.textContent = 'Cancel upload';\n",
              "  const cancelPromise = new Promise((resolve) => {\n",
              "    cancel.onclick = () => {\n",
              "      resolve(null);\n",
              "    };\n",
              "  });\n",
              "\n",
              "  // Wait for the user to pick the files.\n",
              "  const files = yield {\n",
              "    promise: Promise.race([pickedPromise, cancelPromise]),\n",
              "    response: {\n",
              "      action: 'starting',\n",
              "    }\n",
              "  };\n",
              "\n",
              "  cancel.remove();\n",
              "\n",
              "  // Disable the input element since further picks are not allowed.\n",
              "  inputElement.disabled = true;\n",
              "\n",
              "  if (!files) {\n",
              "    return {\n",
              "      response: {\n",
              "        action: 'complete',\n",
              "      }\n",
              "    };\n",
              "  }\n",
              "\n",
              "  for (const file of files) {\n",
              "    const li = document.createElement('li');\n",
              "    li.append(span(file.name, {fontWeight: 'bold'}));\n",
              "    li.append(span(\n",
              "        `(${file.type || 'n/a'}) - ${file.size} bytes, ` +\n",
              "        `last modified: ${\n",
              "            file.lastModifiedDate ? file.lastModifiedDate.toLocaleDateString() :\n",
              "                                    'n/a'} - `));\n",
              "    const percent = span('0% done');\n",
              "    li.appendChild(percent);\n",
              "\n",
              "    outputElement.appendChild(li);\n",
              "\n",
              "    const fileDataPromise = new Promise((resolve) => {\n",
              "      const reader = new FileReader();\n",
              "      reader.onload = (e) => {\n",
              "        resolve(e.target.result);\n",
              "      };\n",
              "      reader.readAsArrayBuffer(file);\n",
              "    });\n",
              "    // Wait for the data to be ready.\n",
              "    let fileData = yield {\n",
              "      promise: fileDataPromise,\n",
              "      response: {\n",
              "        action: 'continue',\n",
              "      }\n",
              "    };\n",
              "\n",
              "    // Use a chunked sending to avoid message size limits. See b/62115660.\n",
              "    let position = 0;\n",
              "    do {\n",
              "      const length = Math.min(fileData.byteLength - position, MAX_PAYLOAD_SIZE);\n",
              "      const chunk = new Uint8Array(fileData, position, length);\n",
              "      position += length;\n",
              "\n",
              "      const base64 = btoa(String.fromCharCode.apply(null, chunk));\n",
              "      yield {\n",
              "        response: {\n",
              "          action: 'append',\n",
              "          file: file.name,\n",
              "          data: base64,\n",
              "        },\n",
              "      };\n",
              "\n",
              "      let percentDone = fileData.byteLength === 0 ?\n",
              "          100 :\n",
              "          Math.round((position / fileData.byteLength) * 100);\n",
              "      percent.textContent = `${percentDone}% done`;\n",
              "\n",
              "    } while (position < fileData.byteLength);\n",
              "  }\n",
              "\n",
              "  // All done.\n",
              "  yield {\n",
              "    response: {\n",
              "      action: 'complete',\n",
              "    }\n",
              "  };\n",
              "}\n",
              "\n",
              "scope.google = scope.google || {};\n",
              "scope.google.colab = scope.google.colab || {};\n",
              "scope.google.colab._files = {\n",
              "  _uploadFiles,\n",
              "  _uploadFilesContinue,\n",
              "};\n",
              "})(self);\n",
              "</script> "
            ]
          },
          "metadata": {}
        },
        {
          "output_type": "stream",
          "name": "stdout",
          "text": [
            "Saving bd.txt to bd.txt\n"
          ]
        }
      ],
      "source": [
        "# LEITURA DO ARQUIVO QUE CONTÉM A BASE DE DADOS, NO GOOGLE COLAB\n",
        "from google.colab import files\n",
        "\n",
        "# Fazer upload do arquivo\n",
        "arquivo = files.upload()\n",
        "base = []\n",
        "\n",
        "# Retira o apostrofo da string de pontuações a serem retiradas\n",
        "pontuacoes = string.punctuation.replace(\"'\", \"\")\n",
        "\n",
        "# Abrir o arquivo e processar linha por linha\n",
        "with open('bd.txt', 'r') as file:\n",
        "    for line in file:\n",
        "        # Remover a pontuação da linha\n",
        "        sem_pontuacao = line.translate(str.maketrans('', '', pontuacoes))\n",
        "        # Adicionar a linha limpa (sem pontuação e espaços extras) à lista\n",
        "        base.append(sem_pontuacao.strip())"
      ]
    },
    {
      "cell_type": "code",
      "source": [
        "# Mutex para controlar o acesso à base.\n",
        "mutex_base = threading.Lock()"
      ],
      "metadata": {
        "id": "2gHFS0BG-idK"
      },
      "execution_count": null,
      "outputs": []
    },
    {
      "cell_type": "code",
      "source": [
        "# Leitor SEM uso da solução \"Leitores e Escritores\".\n",
        "# Bloqueia acesso à base quando entra na base.\n",
        "class ReaderSemSolucao:\n",
        "\n",
        "  def __init__(self):\n",
        "    self.num_acessos = 0\n",
        "    self.posicoes_lidas = []\n",
        "    self.conteudos_lidos = []\n",
        "\n",
        "  def executar_cem_vezes(self):\n",
        "    # Bloqueia acesso à base.\n",
        "    mutex_base.acquire()\n",
        "    # Ler 100 posições diferentes da base.\n",
        "    while (self.num_acessos < 100):\n",
        "      posicao = random.randint(0, len(base) - 1)\n",
        "      if posicao in self.posicoes_lidas:\n",
        "        continue\n",
        "      else:\n",
        "        self.num_acessos = self.num_acessos + 1\n",
        "        self.posicoes_lidas.append(posicao)\n",
        "        self.conteudos_lidos.append(base[posicao])\n",
        "    # Dormir por 1ms, ainda dentro da base.\n",
        "    time.sleep(0.001)\n",
        "    # Desbloquear o acesso à base.\n",
        "    mutex_base.release()"
      ],
      "metadata": {
        "id": "txjBioRC8Cdo"
      },
      "execution_count": null,
      "outputs": []
    },
    {
      "cell_type": "code",
      "source": [
        "# Número de processos lendo.\n",
        "num_lendo = 0\n",
        "\n",
        "# Mutex para \"num_lendo\".\n",
        "mutex_num_lendo = threading.Lock()"
      ],
      "metadata": {
        "id": "XHzko1DIEMEL"
      },
      "execution_count": null,
      "outputs": []
    },
    {
      "cell_type": "code",
      "source": [
        "# Leitor COM uso da solução \"Leitores e Escritores\".\n",
        "# Se a base está desbloqueada:\n",
        "#   E é o primeiro leitor na base, bloqueia para Escritores apenas.\n",
        "#   E já há outros leitores na base, apenas usa.\n",
        "# Ao sair:\n",
        "#   Se outros leitores continuam na base, deixa bloqueada para Escritores (como está).\n",
        "#   Se não restam leitores na base, desbloqueia a base.\n",
        "class ReaderComSolucao:\n",
        "\n",
        "  def __init__(self):\n",
        "    self.num_acessos = 0\n",
        "    self.posicoes_lidas = []\n",
        "    self.conteudos_lidos = []\n",
        "\n",
        "  def executar_cem_vezes(self):\n",
        "    global num_lendo\n",
        "    # Bloquear acesso à \"num_leitores.\"\n",
        "    mutex_num_lendo.acquire()\n",
        "    # Há um leitor a mais.\n",
        "    num_lendo = num_lendo + 1\n",
        "    # Se é o primeiro leitor, trava a base.\n",
        "    if (num_lendo == 1):\n",
        "      # Bloqueia acesso à base.\n",
        "      mutex_base.acquire()\n",
        "    # Desbloqueia o acesso à \"num_leitores\".\n",
        "    mutex_num_lendo.release()\n",
        "    # Ler 100 posições diferentes da base.\n",
        "    while (self.num_acessos < 100):\n",
        "      posicao = random.randint(0, len(base) - 1)\n",
        "      if posicao in self.posicoes_lidas:\n",
        "        continue\n",
        "      else:\n",
        "        self.num_acessos = self.num_acessos + 1\n",
        "        self.posicoes_lidas.append(posicao)\n",
        "        self.conteudos_lidos.append(base[posicao])\n",
        "    # Dormir por 1ms, ainda dentro da base.\n",
        "    time.sleep(0.001)\n",
        "    # Bloquear acesso à \"num_leitores.\"\n",
        "    mutex_num_lendo.acquire()\n",
        "    # Há um leitor a menos.\n",
        "    num_lendo = num_lendo - 1\n",
        "    # Se era o último leitor na base, destrava a base.\n",
        "    if (num_lendo == 0):\n",
        "      # Bloqueia acesso à base.\n",
        "      mutex_base.release()\n",
        "    # Desbloqueia o acesso à \"num_leitores\".\n",
        "    mutex_num_lendo.release()"
      ],
      "metadata": {
        "id": "jszMufNhCK-5"
      },
      "execution_count": null,
      "outputs": []
    },
    {
      "cell_type": "code",
      "source": [
        "# Escritor SEM uso da solução \"Leitores e Escritores\".\n",
        "# Bloqueia acesso à base quando entra na base.\n",
        "class WriterSemSolucao:\n",
        "\n",
        "  def __init__(self):\n",
        "    self.num_acessos = 0\n",
        "    self.posicoes_escritas = []\n",
        "\n",
        "  def executar_cem_vezes(self):\n",
        "    # Bloqueia acesso à base.\n",
        "    mutex_base.acquire()\n",
        "    # Acessar e escrever em 100 posições diferentes da base.\n",
        "    while (self.num_acessos < 100):\n",
        "      posicao = random.randint(0, len(base) - 1)\n",
        "      if posicao in self.posicoes_escritas:\n",
        "        continue\n",
        "      else:\n",
        "        self.num_acessos = self.num_acessos + 1\n",
        "        self.posicoes_escritas.append(posicao)\n",
        "        # Escrever na base.\n",
        "        base[posicao] = 'MODIFICADO'\n",
        "    # Dormir por 1ms, ainda dentro da base.\n",
        "    time.sleep(0.001)\n",
        "    # Desbloquear o acesso à base.\n",
        "    mutex_base.release()"
      ],
      "metadata": {
        "id": "5GyFVgZ0Camr"
      },
      "execution_count": null,
      "outputs": []
    },
    {
      "cell_type": "code",
      "source": [
        "# Escritor COM uso da solução \"Leitores e Escritores\".\n",
        "# Se a base está desbloqueada para Escritores:\n",
        "# O escritor bloqueia a base e escreve nela.\n",
        "# Ao sair:\n",
        "# Desbloqueia a base.\n",
        "class WriterComSolucao:\n",
        "\n",
        "  def __init__(self):\n",
        "    self.num_acessos = 0\n",
        "    self.posicoes_escritas = []\n",
        "\n",
        "  def executar_cem_vezes(self):\n",
        "    # Bloquear acesso à base.\n",
        "    mutex_base.acquire()\n",
        "    # Escrever em 100 posições diferentes da base.\n",
        "    while (self.num_acessos < 100):\n",
        "      posicao = random.randint(0, len(base) - 1)\n",
        "      if posicao in self.posicoes_escritas:\n",
        "        continue\n",
        "      else:\n",
        "        self.num_acessos = self.num_acessos + 1\n",
        "        self.posicoes_escritas.append(posicao)\n",
        "        base[posicao] = \"MODIFICADO\"\n",
        "    # Dormir por 1ms, ainda dentro da base.\n",
        "    time.sleep(0.001)\n",
        "    # Desbloquear acesso à base.\n",
        "    mutex_base.release()"
      ],
      "metadata": {
        "id": "nqhM357SIb_t"
      },
      "execution_count": null,
      "outputs": []
    },
    {
      "cell_type": "code",
      "source": [
        "# Construir arranjo de objetos Threads.\n",
        "def construir_arranjo_sem_solucao(num_leitores_arranjo, num_escritores_arranjo):\n",
        "    # Inicializar leitores e escritores, conforme a quantidade.\n",
        "    leitores = []\n",
        "    escritores = []\n",
        "\n",
        "    if (num_leitores_arranjo == 0):\n",
        "      for i in range (0, 100):\n",
        "        escritor = WriterSemSolucao()\n",
        "        escritores.append(escritor)\n",
        "    elif (num_escritores_arranjo == 0):\n",
        "      for i in range (0, 100):\n",
        "        leitor = ReaderSemSolucao()\n",
        "        leitores.append(leitor)\n",
        "    else:\n",
        "      for i in range(0, num_leitores_arranjo):\n",
        "        leitor = ReaderSemSolucao()\n",
        "        leitores.append(leitor)\n",
        "      for i in range(0, num_escritores_arranjo):\n",
        "        escritor = WriterSemSolucao()\n",
        "        escritores.append(escritor)\n",
        "\n",
        "    # Arranjo de objetos Thread.\n",
        "    arranjo = leitores + escritores\n",
        "\n",
        "    # Embaralhar os elementos do arranjo.\n",
        "    random.shuffle(arranjo)\n",
        "\n",
        "    return arranjo"
      ],
      "metadata": {
        "id": "AbQtspJVMWuv"
      },
      "execution_count": null,
      "outputs": []
    },
    {
      "cell_type": "code",
      "source": [
        "# Rodando o sistema SEM a solução de \"Leitores e Escritores\".\n",
        "\n",
        "num_leitores_arranjo = 0\n",
        "num_escritores_arranjo = 100\n",
        "\n",
        "tempos_proporcoes_sem_solucao = []\n",
        "\n",
        "# Para cada proporção.\n",
        "while (num_leitores_arranjo <= 100):\n",
        "  # Tempo gasto nessa proporção.\n",
        "  tempo_nessa_proporcao = 0\n",
        "\n",
        "  # Rodar o sistema 50 vezes.\n",
        "  for i in range(0, 50):\n",
        "    # Reconstruir arranjo de objetos Thread.\n",
        "    arranjo = construir_arranjo_sem_solucao(num_leitores_arranjo, num_escritores_arranjo)\n",
        "\n",
        "    # Marcar o momento em que a rodada começou.\n",
        "    tempo_inicial_rodada = time.time()\n",
        "\n",
        "    # Executar cada um dos objetos, como uma Thread.\n",
        "    threads = []\n",
        "    for o in arranjo:\n",
        "      t = threading.Thread(target=o.executar_cem_vezes, args=())\n",
        "      threads.append(t)\n",
        "      t.start()\n",
        "\n",
        "    # Aguardar que todos os objetos terminem.\n",
        "    for t in threads:\n",
        "      t.join()\n",
        "\n",
        "    # Marcar o momento em que a rodada terminou.\n",
        "    tempo_final_rodada = time.time()\n",
        "\n",
        "    # Adicionar o tempo nessa rodada ao tempo total da proporção.\n",
        "    tempo_nessa_proporcao = tempo_nessa_proporcao + (tempo_final_rodada - tempo_inicial_rodada)\n",
        "\n",
        "  # Depois que o sistema roda, nessa proporção, 50 vezes.\n",
        "  media_tempo_nessa_porporcao = tempo_nessa_proporcao / 50\n",
        "\n",
        "  # Marcar o tempo médio dessa proporção.\n",
        "  tempos_proporcoes_sem_solucao.append(media_tempo_nessa_porporcao)\n",
        "\n",
        "  # Mudar quantidades para nova proporção.\n",
        "  num_leitores_arranjo = num_leitores_arranjo + 1\n",
        "  num_escritores_arranjo = num_escritores_arranjo - 1"
      ],
      "metadata": {
        "id": "mz7XWQ3dIcMt"
      },
      "execution_count": null,
      "outputs": []
    },
    {
      "cell_type": "code",
      "source": [
        "# Construir arranjo de objetos Threads.\n",
        "def construir_arranjo_com_solucao(num_leitores_arranjo, num_escritores_arranjo):\n",
        "    # Inicializar leitores e escritores, conforme a quantidade.\n",
        "    leitores = []\n",
        "    escritores = []\n",
        "\n",
        "    if (num_leitores_arranjo == 0):\n",
        "      for i in range (0, 100):\n",
        "        escritor = WriterComSolucao()\n",
        "        escritores.append(escritor)\n",
        "    elif (num_escritores_arranjo == 0):\n",
        "      for i in range (0, 100):\n",
        "        leitor = ReaderComSolucao()\n",
        "        leitores.append(leitor)\n",
        "    else:\n",
        "      for i in range(0, num_leitores_arranjo):\n",
        "        leitor = ReaderComSolucao()\n",
        "        leitores.append(leitor)\n",
        "      for i in range(0, num_escritores_arranjo):\n",
        "        escritor = WriterComSolucao()\n",
        "        escritores.append(escritor)\n",
        "\n",
        "    # Arranjo de objetos Thread.\n",
        "    arranjo = leitores + escritores\n",
        "\n",
        "    # Embaralhar os elementos do arranjo.\n",
        "    random.shuffle(arranjo)\n",
        "\n",
        "    return arranjo"
      ],
      "metadata": {
        "id": "yfZjxE-qVnAR"
      },
      "execution_count": null,
      "outputs": []
    },
    {
      "cell_type": "code",
      "source": [
        "# Rodando o sistema COM a solução de \"Leitores e Escritores\".\n",
        "\n",
        "num_leitores_arranjo = 0\n",
        "num_escritores_arranjo = 100\n",
        "\n",
        "tempos_proporcoes_com_solucao = []\n",
        "\n",
        "# Para cada proporção.\n",
        "while (num_leitores_arranjo <= 100):\n",
        "  # Tempo gasto nessa proporção.\n",
        "  tempo_nessa_proporcao = 0\n",
        "\n",
        "  # Rodar o sistema 50 vezes.\n",
        "  for i in range(0, 50):\n",
        "    # Reconstruir arranjo de objetos Thread.\n",
        "    arranjo = construir_arranjo_com_solucao(num_leitores_arranjo, num_escritores_arranjo)\n",
        "\n",
        "    # Marcar o momento em que a rodada começou.\n",
        "    tempo_inicial_rodada = time.time()\n",
        "\n",
        "    # Executar cada um dos objetos, como uma Thread.\n",
        "    threads = []\n",
        "    for o in arranjo:\n",
        "      t = threading.Thread(target=o.executar_cem_vezes, args=())\n",
        "      threads.append(t)\n",
        "      t.start()\n",
        "\n",
        "    # Aguardar que todos os objetos terminem.\n",
        "    for t in threads:\n",
        "      t.join()\n",
        "\n",
        "    # Marcar o momento em que a rodada terminou.\n",
        "    tempo_final_rodada = time.time()\n",
        "\n",
        "    # Adicionar o tempo nessa rodada ao tempo total da proporção.\n",
        "    tempo_nessa_proporcao = tempo_nessa_proporcao + (tempo_final_rodada - tempo_inicial_rodada)\n",
        "\n",
        "  # Depois que o sistema roda, nessa proporção, 50 vezes.\n",
        "  media_tempo_nessa_porporcao = tempo_nessa_proporcao / 50\n",
        "\n",
        "  # Marcar o tempo médio dessa proporção.\n",
        "  tempos_proporcoes_com_solucao.append(media_tempo_nessa_porporcao)\n",
        "\n",
        "  # Mudar quantidades para nova proporção.\n",
        "  num_leitores_arranjo = num_leitores_arranjo + 1\n",
        "  num_escritores_arranjo = num_escritores_arranjo - 1"
      ],
      "metadata": {
        "id": "nZAxTXxUPGXj"
      },
      "execution_count": null,
      "outputs": []
    },
    {
      "cell_type": "code",
      "source": [
        "com_sol = 0\n",
        "\n",
        "for s in range(0, 101):\n",
        "  if tempos_proporcoes_com_solucao[s] < tempos_proporcoes_sem_solucao[s]:\n",
        "    com_sol = com_sol + 1"
      ],
      "metadata": {
        "id": "wEB2Ck3oseCQ"
      },
      "execution_count": null,
      "outputs": []
    },
    {
      "cell_type": "code",
      "source": [
        "# Sistema COM uso da solução Leitores e Escritores foi melhor em 94% dos casos.\n",
        "com_sol / 101"
      ],
      "metadata": {
        "colab": {
          "base_uri": "https://localhost:8080/"
        },
        "id": "AhlgYACAsyjN",
        "outputId": "3a2d6ef7-a032-45a6-c968-210726f41943"
      },
      "execution_count": null,
      "outputs": [
        {
          "output_type": "execute_result",
          "data": {
            "text/plain": [
              "0.9603960396039604"
            ]
          },
          "metadata": {},
          "execution_count": 28
        }
      ]
    },
    {
      "cell_type": "code",
      "source": [
        "duracao_sem_sol = sum(tempos_proporcoes_sem_solucao)\n",
        "duracao_com_sol = sum(tempos_proporcoes_com_solucao)\n",
        "\n",
        "prop = duracao_sem_sol / duracao_com_sol"
      ],
      "metadata": {
        "id": "lvF4S0y0s2w7"
      },
      "execution_count": null,
      "outputs": []
    },
    {
      "cell_type": "code",
      "source": [
        "# O sistema COM uso da solução Leitores e Escritores foi 45% melhor.\n",
        "prop"
      ],
      "metadata": {
        "colab": {
          "base_uri": "https://localhost:8080/"
        },
        "id": "HP4KOul5wc-t",
        "outputId": "bdc719ba-98c8-4c16-e41c-c570c8ee172e"
      },
      "execution_count": null,
      "outputs": [
        {
          "output_type": "execute_result",
          "data": {
            "text/plain": [
              "1.489591965056484"
            ]
          },
          "metadata": {},
          "execution_count": 30
        }
      ]
    },
    {
      "cell_type": "code",
      "source": [
        "import matplotlib.pyplot as plt\n",
        "\n",
        "# Cria um indice para o eixo x\n",
        "x = range(len(tempos_proporcoes_com_solucao))\n",
        "\n",
        "# Muda a proporção da imagem para melhorar a visibilidade\n",
        "plt.figure(figsize=(12,6))\n",
        "\n",
        "# Coloca as informações no grafico, sem solução\n",
        "plt.plot(x, tempos_proporcoes_sem_solucao, color='orange', label='Sem Solução')\n",
        "# Coloca as informações no grafico, com solução\n",
        "plt.plot(x, tempos_proporcoes_com_solucao, color='blue', label='Com Solução')\n",
        "\n",
        "# Cria um titulo e legendas\n",
        "plt.xlabel('Leitores')\n",
        "plt.ylabel('Média de Tempo de Execução')\n",
        "plt.title('Comparação dos Tempos de Execução')\n",
        "plt.legend()\n",
        "\n",
        "# Adiciona grade e altera intervalos para facilitar compreensão\n",
        "plt.grid(True)\n",
        "plt.xticks([0,10,20,30,40,50,60,70,80,90,100])\n",
        "\n",
        "# Salvar o gráfico.\n",
        "plt.savefig('grafico_linhas.png')\n",
        "\n",
        "# Plota o gráfico\n",
        "plt.show()"
      ],
      "metadata": {
        "colab": {
          "base_uri": "https://localhost:8080/",
          "height": 564
        },
        "id": "IMgbmyei69ER",
        "outputId": "4432e856-3dd1-433b-ab0f-5c6c6905715c"
      },
      "execution_count": null,
      "outputs": [
        {
          "output_type": "display_data",
          "data": {
            "text/plain": [
              "<Figure size 1200x600 with 1 Axes>"
            ],
            "image/png": "[encoded data removed]"
          },
          "metadata": {}
        }
      ]
    },
    {
      "cell_type": "code",
      "source": [
        "# Escrever valores de \"tempos_proporcoes_sem_solucao\" em um arquivo.\n",
        "with open('sem_solucao.txt', 'w') as file:\n",
        "    for t in tempos_proporcoes_sem_solucao:\n",
        "        file.write(f\"{t}\\n\")"
      ],
      "metadata": {
        "id": "QgwTsUrr4dVL"
      },
      "execution_count": null,
      "outputs": []
    },
    {
      "cell_type": "code",
      "source": [
        "from google.colab import files\n",
        "files.download('sem_solucao.txt')"
      ],
      "metadata": {
        "colab": {
          "base_uri": "https://localhost:8080/",
          "height": 17
        },
        "id": "KEw7R0KebdIe",
        "outputId": "92e22e22-c335-4bd9-b96e-63d35e8bcc82"
      },
      "execution_count": null,
      "outputs": [
        {
          "output_type": "display_data",
          "data": {
            "text/plain": [
              "<IPython.core.display.Javascript object>"
            ],
            "application/javascript": [
              "\n",
              "    async function download(id, filename, size) {\n",
              "      if (!google.colab.kernel.accessAllowed) {\n",
              "        return;\n",
              "      }\n",
              "      const div = document.createElement('div');\n",
              "      const label = document.createElement('label');\n",
              "      label.textContent = `Downloading \"${filename}\": `;\n",
              "      div.appendChild(label);\n",
              "      const progress = document.createElement('progress');\n",
              "      progress.max = size;\n",
              "      div.appendChild(progress);\n",
              "      document.body.appendChild(div);\n",
              "\n",
              "      const buffers = [];\n",
              "      let downloaded = 0;\n",
              "\n",
              "      const channel = await google.colab.kernel.comms.open(id);\n",
              "      // Send a message to notify the kernel that we're ready.\n",
              "      channel.send({})\n",
              "\n",
              "      for await (const message of channel.messages) {\n",
              "        // Send a message to notify the kernel that we're ready.\n",
              "        channel.send({})\n",
              "        if (message.buffers) {\n",
              "          for (const buffer of message.buffers) {\n",
              "            buffers.push(buffer);\n",
              "            downloaded += buffer.byteLength;\n",
              "            progress.value = downloaded;\n",
              "          }\n",
              "        }\n",
              "      }\n",
              "      const blob = new Blob(buffers, {type: 'application/binary'});\n",
              "      const a = document.createElement('a');\n",
              "      a.href = window.URL.createObjectURL(blob);\n",
              "      a.download = filename;\n",
              "      div.appendChild(a);\n",
              "      a.click();\n",
              "      div.remove();\n",
              "    }\n",
              "  "
            ]
          },
          "metadata": {}
        },
        {
          "output_type": "display_data",
          "data": {
            "text/plain": [
              "<IPython.core.display.Javascript object>"
            ],
            "application/javascript": [
              "download(\"download_15bfd918-a0ee-4b3a-b4a6-79d990a36fd5\", \"sem_solucao.txt\", 1995)"
            ]
          },
          "metadata": {}
        }
      ]
    },
    {
      "cell_type": "code",
      "source": [
        "# Escrever valores de \"tempos_proporcoes_com_solucao\" em um arquivo.\n",
        "with open('com_solucao.txt', 'w') as file:\n",
        "    for t in tempos_proporcoes_com_solucao:\n",
        "        file.write(f\"{t}\\n\")"
      ],
      "metadata": {
        "id": "sLUNoojB5cIl"
      },
      "execution_count": null,
      "outputs": []
    },
    {
      "cell_type": "code",
      "source": [
        "from google.colab import files\n",
        "files.download('com_solucao.txt')"
      ],
      "metadata": {
        "colab": {
          "base_uri": "https://localhost:8080/",
          "height": 17
        },
        "id": "pjElD9Wsbuqm",
        "outputId": "5bcf5ac0-7592-4fc3-fc0f-61b961aee0cc"
      },
      "execution_count": null,
      "outputs": [
        {
          "output_type": "display_data",
          "data": {
            "text/plain": [
              "<IPython.core.display.Javascript object>"
            ],
            "application/javascript": [
              "\n",
              "    async function download(id, filename, size) {\n",
              "      if (!google.colab.kernel.accessAllowed) {\n",
              "        return;\n",
              "      }\n",
              "      const div = document.createElement('div');\n",
              "      const label = document.createElement('label');\n",
              "      label.textContent = `Downloading \"${filename}\": `;\n",
              "      div.appendChild(label);\n",
              "      const progress = document.createElement('progress');\n",
              "      progress.max = size;\n",
              "      div.appendChild(progress);\n",
              "      document.body.appendChild(div);\n",
              "\n",
              "      const buffers = [];\n",
              "      let downloaded = 0;\n",
              "\n",
              "      const channel = await google.colab.kernel.comms.open(id);\n",
              "      // Send a message to notify the kernel that we're ready.\n",
              "      channel.send({})\n",
              "\n",
              "      for await (const message of channel.messages) {\n",
              "        // Send a message to notify the kernel that we're ready.\n",
              "        channel.send({})\n",
              "        if (message.buffers) {\n",
              "          for (const buffer of message.buffers) {\n",
              "            buffers.push(buffer);\n",
              "            downloaded += buffer.byteLength;\n",
              "            progress.value = downloaded;\n",
              "          }\n",
              "        }\n",
              "      }\n",
              "      const blob = new Blob(buffers, {type: 'application/binary'});\n",
              "      const a = document.createElement('a');\n",
              "      a.href = window.URL.createObjectURL(blob);\n",
              "      a.download = filename;\n",
              "      div.appendChild(a);\n",
              "      a.click();\n",
              "      div.remove();\n",
              "    }\n",
              "  "
            ]
          },
          "metadata": {}
        },
        {
          "output_type": "display_data",
          "data": {
            "text/plain": [
              "<IPython.core.display.Javascript object>"
            ],
            "application/javascript": [
              "download(\"download_c1a110aa-6387-44e9-ba84-7025d9854db6\", \"com_solucao.txt\", 2005)"
            ]
          },
          "metadata": {}
        }
      ]
    },
    {
      "cell_type": "code",
      "source": [
        "import matplotlib.pyplot as plt\n",
        "\n",
        "props = []\n",
        "for i in range(0, 101):\n",
        "  props.append(i)\n",
        "\n",
        "plt.figure(figsize=(12,6))\n",
        "\n",
        "plt.bar(props, tempos_proporcoes_sem_solucao, color=\"red\", label=\"Sem solução\")\n",
        "plt.bar(props, tempos_proporcoes_com_solucao, color=\"green\", label=\"Com solução\")\n",
        "\n",
        "plt.title('Comparação Tempos Médios Com e Sem Leitores e Escritores')\n",
        "plt.xlabel('Leitores')\n",
        "plt.ylabel('Média de Tempo de Execução')\n",
        "plt.legend()\n",
        "\n",
        "plt.savefig('barras_comp.png')\n",
        "\n",
        "plt.show()"
      ],
      "metadata": {
        "colab": {
          "base_uri": "https://localhost:8080/",
          "height": 565
        },
        "id": "xtQVPvsrSM3-",
        "outputId": "91a54b4b-3e71-4cf9-8d20-0a762ff3a460"
      },
      "execution_count": null,
      "outputs": [
        {
          "output_type": "display_data",
          "data": {
            "text/plain": [
              "<Figure size 1200x600 with 1 Axes>"
            ],
            "image/png": "[encoded data removed]"
          },
          "metadata": {}
        }
      ]
    },
    {
      "cell_type": "code",
      "source": [
        "difs = []\n",
        "\n",
        "for s in range(0, 101):\n",
        "  difs.append(tempos_proporcoes_sem_solucao[s] - tempos_proporcoes_com_solucao[s])\n",
        "\n",
        "props = []\n",
        "for i in range(0, 101):\n",
        "  props.append(i)\n",
        "\n",
        "plt.figure(figsize=(12,6))\n",
        "\n",
        "plt.bar(props, difs)\n",
        "\n",
        "plt.title('Ganho Médio de Tempo no Sistema com Solução Leitores e Escritores')\n",
        "plt.xlabel('Leitores')\n",
        "plt.ylabel('Tempo Médio de Execução')\n",
        "\n",
        "plt.savefig('barras_dif.png')\n",
        "\n",
        "plt.show()"
      ],
      "metadata": {
        "colab": {
          "base_uri": "https://localhost:8080/",
          "height": 565
        },
        "id": "oqiPzx-SUtRt",
        "outputId": "07f8d5df-1e53-4e8b-e76a-f1c5ecba9ad9"
      },
      "execution_count": null,
      "outputs": [
        {
          "output_type": "display_data",
          "data": {
            "text/plain": [
              "<Figure size 1200x600 with 1 Axes>"
            ],
            "image/png": "[encoded data removed]"
          },
          "metadata": {}
        }
      ]
    },
    {
      "cell_type": "code",
      "source": [
        "props = []\n",
        "for i in range(0, 101):\n",
        "  props.append(i)\n",
        "\n",
        "plt.figure(figsize=(12,6))\n",
        "\n",
        "plt.scatter(props, tempos_proporcoes_sem_solucao, color='red', marker='o')\n",
        "plt.scatter(props, tempos_proporcoes_com_solucao, color='green', marker='o')\n",
        "\n",
        "plt.title('Dispersão dos Tempos Médios')\n",
        "plt.xlabel('Tempo Médio de Execução')\n",
        "plt.ylabel('Leitores')\n",
        "\n",
        "plt.savefig('dispersao.png')"
      ],
      "metadata": {
        "colab": {
          "base_uri": "https://localhost:8080/",
          "height": 565
        },
        "id": "a40fxxKEcIE7",
        "outputId": "ec717da9-cd7c-40d8-bea9-e75aa466f694"
      },
      "execution_count": null,
      "outputs": [
        {
          "output_type": "display_data",
          "data": {
            "text/plain": [
              "<Figure size 1200x600 with 1 Axes>"
            ],
            "image/png": "[encoded data removed]"
          },
          "metadata": {}
        }
      ]
    },
    {
      "cell_type": "code",
      "source": [
        "files.download('grafico_linhas.png')\n",
        "files.download('barras_comp.png')\n",
        "files.download('barras_dif.png')\n",
        "files.download('dispersao.png')"
      ],
      "metadata": {
        "colab": {
          "base_uri": "https://localhost:8080/",
          "height": 17
        },
        "id": "_mIpNrV7cTJy",
        "outputId": "7206e22c-3cca-4a3f-c3be-a726e53cafd6"
      },
      "execution_count": null,
      "outputs": [
        {
          "output_type": "display_data",
          "data": {
            "text/plain": [
              "<IPython.core.display.Javascript object>"
            ],
            "application/javascript": [
              "\n",
              "    async function download(id, filename, size) {\n",
              "      if (!google.colab.kernel.accessAllowed) {\n",
              "        return;\n",
              "      }\n",
              "      const div = document.createElement('div');\n",
              "      const label = document.createElement('label');\n",
              "      label.textContent = `Downloading \"${filename}\": `;\n",
              "      div.appendChild(label);\n",
              "      const progress = document.createElement('progress');\n",
              "      progress.max = size;\n",
              "      div.appendChild(progress);\n",
              "      document.body.appendChild(div);\n",
              "\n",
              "      const buffers = [];\n",
              "      let downloaded = 0;\n",
              "\n",
              "      const channel = await google.colab.kernel.comms.open(id);\n",
              "      // Send a message to notify the kernel that we're ready.\n",
              "      channel.send({})\n",
              "\n",
              "      for await (const message of channel.messages) {\n",
              "        // Send a message to notify the kernel that we're ready.\n",
              "        channel.send({})\n",
              "        if (message.buffers) {\n",
              "          for (const buffer of message.buffers) {\n",
              "            buffers.push(buffer);\n",
              "            downloaded += buffer.byteLength;\n",
              "            progress.value = downloaded;\n",
              "          }\n",
              "        }\n",
              "      }\n",
              "      const blob = new Blob(buffers, {type: 'application/binary'});\n",
              "      const a = document.createElement('a');\n",
              "      a.href = window.URL.createObjectURL(blob);\n",
              "      a.download = filename;\n",
              "      div.appendChild(a);\n",
              "      a.click();\n",
              "      div.remove();\n",
              "    }\n",
              "  "
            ]
          },
          "metadata": {}
        },
        {
          "output_type": "display_data",
          "data": {
            "text/plain": [
              "<IPython.core.display.Javascript object>"
            ],
            "application/javascript": [
              "download(\"download_ba769231-d8ac-407d-8ae6-9c819ca65339\", \"grafico_linhas.png\", 76770)"
            ]
          },
          "metadata": {}
        },
        {
          "output_type": "display_data",
          "data": {
            "text/plain": [
              "<IPython.core.display.Javascript object>"
            ],
            "application/javascript": [
              "\n",
              "    async function download(id, filename, size) {\n",
              "      if (!google.colab.kernel.accessAllowed) {\n",
              "        return;\n",
              "      }\n",
              "      const div = document.createElement('div');\n",
              "      const label = document.createElement('label');\n",
              "      label.textContent = `Downloading \"${filename}\": `;\n",
              "      div.appendChild(label);\n",
              "      const progress = document.createElement('progress');\n",
              "      progress.max = size;\n",
              "      div.appendChild(progress);\n",
              "      document.body.appendChild(div);\n",
              "\n",
              "      const buffers = [];\n",
              "      let downloaded = 0;\n",
              "\n",
              "      const channel = await google.colab.kernel.comms.open(id);\n",
              "      // Send a message to notify the kernel that we're ready.\n",
              "      channel.send({})\n",
              "\n",
              "      for await (const message of channel.messages) {\n",
              "        // Send a message to notify the kernel that we're ready.\n",
              "        channel.send({})\n",
              "        if (message.buffers) {\n",
              "          for (const buffer of message.buffers) {\n",
              "            buffers.push(buffer);\n",
              "            downloaded += buffer.byteLength;\n",
              "            progress.value = downloaded;\n",
              "          }\n",
              "        }\n",
              "      }\n",
              "      const blob = new Blob(buffers, {type: 'application/binary'});\n",
              "      const a = document.createElement('a');\n",
              "      a.href = window.URL.createObjectURL(blob);\n",
              "      a.download = filename;\n",
              "      div.appendChild(a);\n",
              "      a.click();\n",
              "      div.remove();\n",
              "    }\n",
              "  "
            ]
          },
          "metadata": {}
        },
        {
          "output_type": "display_data",
          "data": {
            "text/plain": [
              "<IPython.core.display.Javascript object>"
            ],
            "application/javascript": [
              "download(\"download_e25bb241-25bc-405d-a915-c3342539068e\", \"barras_comp.png\", 33031)"
            ]
          },
          "metadata": {}
        },
        {
          "output_type": "display_data",
          "data": {
            "text/plain": [
              "<IPython.core.display.Javascript object>"
            ],
            "application/javascript": [
              "\n",
              "    async function download(id, filename, size) {\n",
              "      if (!google.colab.kernel.accessAllowed) {\n",
              "        return;\n",
              "      }\n",
              "      const div = document.createElement('div');\n",
              "      const label = document.createElement('label');\n",
              "      label.textContent = `Downloading \"${filename}\": `;\n",
              "      div.appendChild(label);\n",
              "      const progress = document.createElement('progress');\n",
              "      progress.max = size;\n",
              "      div.appendChild(progress);\n",
              "      document.body.appendChild(div);\n",
              "\n",
              "      const buffers = [];\n",
              "      let downloaded = 0;\n",
              "\n",
              "      const channel = await google.colab.kernel.comms.open(id);\n",
              "      // Send a message to notify the kernel that we're ready.\n",
              "      channel.send({})\n",
              "\n",
              "      for await (const message of channel.messages) {\n",
              "        // Send a message to notify the kernel that we're ready.\n",
              "        channel.send({})\n",
              "        if (message.buffers) {\n",
              "          for (const buffer of message.buffers) {\n",
              "            buffers.push(buffer);\n",
              "            downloaded += buffer.byteLength;\n",
              "            progress.value = downloaded;\n",
              "          }\n",
              "        }\n",
              "      }\n",
              "      const blob = new Blob(buffers, {type: 'application/binary'});\n",
              "      const a = document.createElement('a');\n",
              "      a.href = window.URL.createObjectURL(blob);\n",
              "      a.download = filename;\n",
              "      div.appendChild(a);\n",
              "      a.click();\n",
              "      div.remove();\n",
              "    }\n",
              "  "
            ]
          },
          "metadata": {}
        },
        {
          "output_type": "display_data",
          "data": {
            "text/plain": [
              "<IPython.core.display.Javascript object>"
            ],
            "application/javascript": [
              "download(\"download_cb276357-9f98-4d39-a91c-6f7aa4d44ed0\", \"barras_dif.png\", 28775)"
            ]
          },
          "metadata": {}
        },
        {
          "output_type": "display_data",
          "data": {
            "text/plain": [
              "<IPython.core.display.Javascript object>"
            ],
            "application/javascript": [
              "\n",
              "    async function download(id, filename, size) {\n",
              "      if (!google.colab.kernel.accessAllowed) {\n",
              "        return;\n",
              "      }\n",
              "      const div = document.createElement('div');\n",
              "      const label = document.createElement('label');\n",
              "      label.textContent = `Downloading \"${filename}\": `;\n",
              "      div.appendChild(label);\n",
              "      const progress = document.createElement('progress');\n",
              "      progress.max = size;\n",
              "      div.appendChild(progress);\n",
              "      document.body.appendChild(div);\n",
              "\n",
              "      const buffers = [];\n",
              "      let downloaded = 0;\n",
              "\n",
              "      const channel = await google.colab.kernel.comms.open(id);\n",
              "      // Send a message to notify the kernel that we're ready.\n",
              "      channel.send({})\n",
              "\n",
              "      for await (const message of channel.messages) {\n",
              "        // Send a message to notify the kernel that we're ready.\n",
              "        channel.send({})\n",
              "        if (message.buffers) {\n",
              "          for (const buffer of message.buffers) {\n",
              "            buffers.push(buffer);\n",
              "            downloaded += buffer.byteLength;\n",
              "            progress.value = downloaded;\n",
              "          }\n",
              "        }\n",
              "      }\n",
              "      const blob = new Blob(buffers, {type: 'application/binary'});\n",
              "      const a = document.createElement('a');\n",
              "      a.href = window.URL.createObjectURL(blob);\n",
              "      a.download = filename;\n",
              "      div.appendChild(a);\n",
              "      a.click();\n",
              "      div.remove();\n",
              "    }\n",
              "  "
            ]
          },
          "metadata": {}
        },
        {
          "output_type": "display_data",
          "data": {
            "text/plain": [
              "<IPython.core.display.Javascript object>"
            ],
            "application/javascript": [
              "download(\"download_595ee0e2-1278-49e1-a4eb-dabb5f001a5a\", \"dispersao.png\", 40042)"
            ]
          },
          "metadata": {}
        }
      ]
    },
    {
      "cell_type": "code",
      "source": [
        "import pandas as pd\n",
        "\n",
        "props = []\n",
        "for i in range (0, 101):\n",
        "  props.append(f\"{i} leitores e {100-i} escritores\")\n",
        "\n",
        "dados = {\n",
        "    'Proporção': props,\n",
        "    'Tempo médio sem Readers e Writers': tempos_proporcoes_sem_solucao,\n",
        "    'Tempo médio com Readers e Writers': tempos_proporcoes_com_solucao,\n",
        "    'Ganho com Readers e Writers': difs\n",
        "}\n",
        "\n",
        "tabela = pd.DataFrame(dados)\n",
        "\n",
        "tabela.to_excel('tabela.xlsx', index=False)"
      ],
      "metadata": {
        "id": "yTxN5rxqeZLI"
      },
      "execution_count": null,
      "outputs": []
    },
    {
      "cell_type": "code",
      "source": [
        "files.download('tabela.xlsx')"
      ],
      "metadata": {
        "colab": {
          "base_uri": "https://localhost:8080/",
          "height": 17
        },
        "id": "Eh1W61rlfjOy",
        "outputId": "321cf0ed-1032-4410-c1d9-74efbc4173be"
      },
      "execution_count": null,
      "outputs": [
        {
          "output_type": "display_data",
          "data": {
            "text/plain": [
              "<IPython.core.display.Javascript object>"
            ],
            "application/javascript": [
              "\n",
              "    async function download(id, filename, size) {\n",
              "      if (!google.colab.kernel.accessAllowed) {\n",
              "        return;\n",
              "      }\n",
              "      const div = document.createElement('div');\n",
              "      const label = document.createElement('label');\n",
              "      label.textContent = `Downloading \"${filename}\": `;\n",
              "      div.appendChild(label);\n",
              "      const progress = document.createElement('progress');\n",
              "      progress.max = size;\n",
              "      div.appendChild(progress);\n",
              "      document.body.appendChild(div);\n",
              "\n",
              "      const buffers = [];\n",
              "      let downloaded = 0;\n",
              "\n",
              "      const channel = await google.colab.kernel.comms.open(id);\n",
              "      // Send a message to notify the kernel that we're ready.\n",
              "      channel.send({})\n",
              "\n",
              "      for await (const message of channel.messages) {\n",
              "        // Send a message to notify the kernel that we're ready.\n",
              "        channel.send({})\n",
              "        if (message.buffers) {\n",
              "          for (const buffer of message.buffers) {\n",
              "            buffers.push(buffer);\n",
              "            downloaded += buffer.byteLength;\n",
              "            progress.value = downloaded;\n",
              "          }\n",
              "        }\n",
              "      }\n",
              "      const blob = new Blob(buffers, {type: 'application/binary'});\n",
              "      const a = document.createElement('a');\n",
              "      a.href = window.URL.createObjectURL(blob);\n",
              "      a.download = filename;\n",
              "      div.appendChild(a);\n",
              "      a.click();\n",
              "      div.remove();\n",
              "    }\n",
              "  "
            ]
          },
          "metadata": {}
        },
        {
          "output_type": "display_data",
          "data": {
            "text/plain": [
              "<IPython.core.display.Javascript object>"
            ],
            "application/javascript": [
              "download(\"download_d514b2f2-e9f8-4e1e-8295-06fe02b40f21\", \"tabela.xlsx\", 10198)"
            ]
          },
          "metadata": {}
        }
      ]
    },
    {
      "cell_type": "code",
      "source": [],
      "metadata": {
        "id": "2cse-ZB7gApm"
      },
      "execution_count": null,
      "outputs": []
    }
  ]
}